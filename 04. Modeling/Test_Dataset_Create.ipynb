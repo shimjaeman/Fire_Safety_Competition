{
  "nbformat": 4,
  "nbformat_minor": 0,
  "metadata": {
    "colab": {
      "provenance": []
    },
    "kernelspec": {
      "name": "python3",
      "display_name": "Python 3"
    },
    "language_info": {
      "name": "python"
    }
  },
  "cells": [
    {
      "cell_type": "markdown",
      "metadata": {
        "id": "qwdU6Vuc6BwE"
      },
      "source": [
        "### Test Dataset Create"
      ]
    },
    {
      "cell_type": "code",
      "execution_count": null,
      "metadata": {
        "id": "RNMsqiobBUhO"
      },
      "outputs": [],
      "source": [
        "# 2021년 매월 말일 (년, 월, 일) 데이터\n",
        "last_day = [20210131, 20210228, 20210331, 20210430, 20210531, 20210630, 20210731, 20210831, 20210930, 20211031, 20211130]\n",
        "last = []\n",
        "for day in last_day:\n",
        "    date = pd.to_datetime(str(day), infer_datetime_format=True)\n",
        "    last.append(date)\n",
        "last_day_df = pd.DataFrame(last, columns=[\"OCRN_YMD\"])\n",
        "last_day_df[\"MONTH\"] = last_day_df.loc[:,\"OCRN_YMD\"].dt.month\n",
        "last_day_df[\"DAY\"] = last_day_df.loc[:,\"OCRN_YMD\"].dt.day\n",
        "last_day_df[\"WEEKDAY\"] = last_day_df.loc[:,\"OCRN_YMD\"].dt.weekday"
      ]
    },
    {
      "cell_type": "code",
      "execution_count": null,
      "metadata": {
        "id": "T2dDvdOf7T-C"
      },
      "outputs": [],
      "source": [
        "## 격자 데이터 + 매월 말일 데이터 \n",
        "last_day_input = []\n",
        "Grid_ID = data_DF[\"GRID_ID\"].unique()\n",
        "for date in last_day:\n",
        "    date = pd.to_datetime(str(date), infer_datetime_format=True)\n",
        "    for grid in Grid_ID:\n",
        "        last_day_input.append([grid, date])\n",
        "grid_df = pd.DataFrame(data = last_day_input, columns=['GRID_ID', 'OCRN_YMD'])\n",
        "last_day_df = pd.merge(grid_df, last_day_df, on = \"OCRN_YMD\", how=\"left\")\n",
        "last_day_df[\"OCRN_YMD\"] = last_day_df[\"OCRN_YMD\"].astype(str)\n",
        "last_day_df\n",
        "\n",
        "## SEASON_SE_NM 추가\n",
        "last_day_df['SEASON_SE_NM'] = last_day_df['MONTH'].apply(season_check)\n",
        "\n",
        "## HOLIDAY 추가 \n",
        "last_day_df = pd.merge(last_day_df, hol_df, on=['OCRN_YMD'], how='left').fillna(0)"
      ]
    },
    {
      "cell_type": "code",
      "execution_count": null,
      "metadata": {
        "id": "hRMaM8KQ_djr"
      },
      "outputs": [],
      "source": [
        "# 기상정보 추가 (DAY_RAINQTY, DAY_MSNF, AVRG_WS, AVRG_HUMIDITY, AVRG_TMPRT)\n",
        "last_day_df = pd.merge(last_day_df, climate_dict, on = [\"OCRN_YMD\"], how=\"left\").fillna(0)"
      ]
    },
    {
      "cell_type": "code",
      "execution_count": null,
      "metadata": {
        "id": "N7fQnL-d_zcf"
      },
      "outputs": [],
      "source": [
        "# 각 사건 영향 변수 추가 (INDUSTRIAL_CNT, BAR_CNT, SENIOR_CENTER_CNT, RESTAURANT_CNT, BULID_PERMIT_CNT, ACCIDENT_AREA_CNT)\n",
        "\n",
        "## INDUSTRIAL_CNT 추가\n",
        "last_day_df = pd.merge(last_day_df, factory_df_counted, on=['GRID_ID'], how='left')\n",
        "\n",
        "## BAR_CNT 추가\n",
        "last_day_df = pd.merge(last_day_df, bar_df_counted, on=['GRID_ID'], how='left')\n",
        "\n",
        "## SENIOR_CENTER_CNT 추가\n",
        "last_day_df = pd.merge(last_day_df, senior_df_counted, on=['GRID_ID'], how='left')\n",
        "\n",
        "## RESTAURANT_CNT 추가\n",
        "last_day_df = pd.merge(last_day_df, restaurant_df_counted, on=['GRID_ID'], how='left')\n",
        "\n",
        "## BULID_PERMIT_CNT 추가\n",
        "last_day_df = pd.merge(last_day_df, build_df_counted, on=['GRID_ID'], how='left')\n",
        "\n",
        "## ACCIDENT_AREA_CNT 추가\n",
        "last_day_df = pd.merge(last_day_df, road_df_counted, on=['GRID_ID'], how='left')"
      ]
    },
    {
      "cell_type": "code",
      "execution_count": null,
      "metadata": {
        "id": "KvsM7PuQBj0w",
        "colab": {
          "base_uri": "https://localhost:8080/"
        },
        "outputId": "3d060fcf-b579-4a27-c57a-3484eb981527"
      },
      "outputs": [
        {
          "output_type": "stream",
          "name": "stdout",
          "text": [
            "       GRID_ID  MONTH  WEEKDAY   ALL_POP  ELDER_POP\n",
            "0     378509.0    1.0      6.0  0.000000   0.000000\n",
            "1     378511.0    1.0      6.0  0.105555   0.063118\n",
            "2     378512.0    1.0      6.0  0.023568   0.015320\n",
            "3     378513.0    1.0      6.0  0.379208   0.248920\n",
            "4     378514.0    1.0      6.0  0.056562   0.011914\n",
            "...        ...    ...      ...       ...        ...\n",
            "5220  417516.0   11.0      1.0  0.000000   0.000000\n",
            "5221  417517.0   11.0      1.0  0.126917   0.091746\n",
            "5222  417518.0   11.0      1.0  0.180926   0.137904\n",
            "5223  417521.0   11.0      1.0  0.000000   0.000000\n",
            "5224  418518.0   11.0      1.0  0.000000   0.000000\n",
            "\n",
            "[5225 rows x 5 columns]\n"
          ]
        }
      ],
      "source": [
        "# 65세 미만 유동인구(ALL_POP), 65세 이상 유동인구(ELDER_POP) 컬럼 추가 \n",
        "\n",
        "# 같은 격자, 같은 달, 같은 요일의 유동인구의 평균값 계산\n",
        "pop_mean = final_DF.groupby([\"GRID_ID\",\"MONTH\",\"WEEKDAY\"], as_index=False)[\"ALL_POP\", \"ELDER_POP\"].mean()\n",
        "\n",
        "# 같은 조건의 값 추가\n",
        "last_grid = last_day_df[\"GRID_ID\"].unique()\n",
        "all_pop_df = []\n",
        "for m in range(1, 12):\n",
        "    w = last_day_df[last_day_df[\"MONTH\"]==m][\"WEEKDAY\"].unique()[0]\n",
        "    for g in last_grid:\n",
        "       all_pop_df.append(list(pop_mean[(pop_mean[\"GRID_ID\"]==g) & (pop_mean[\"MONTH\"]==m) & (pop_mean[\"WEEKDAY\"]==w)].iloc[0, :]))\n",
        "all_pop_df = pd.DataFrame(all_pop_df, columns = pop_mean.columns)\n",
        "print(all_pop_df)\n",
        "all_pop_add_df = all_pop_df.drop(columns=[\"GRID_ID\", \"MONTH\", \"WEEKDAY\"], axis=1)\n",
        "\n",
        "# 65세 미만 유동인구(ALL_POP), 65세 이상 유동인구(ELDER_POP) 추가\n",
        "last_day_df = pd.concat([last_day_df, all_pop_add_df], axis=1).reset_index(drop=True)"
      ]
    },
    {
      "cell_type": "code",
      "execution_count": null,
      "metadata": {
        "id": "V_zR_rcNVN0T"
      },
      "outputs": [],
      "source": [
        "# Feature Skew\n",
        "lam = 0.01\n",
        "last_skw_features = ['AVRG_TMPRT', 'DAY_RAINQTY', 'DAY_MSNF', 'AVRG_WS', 'AVRG_HUMIDITY', 'INDUSTRIAL_CNT', \n",
        "                     'BAR_CNT', 'SENIOR_CENTER_CNT', 'RESTAURANT_CNT', 'BULID_PERMIT_CNT', 'ACCIDENT_AREA_CNT']\n",
        "skew_list = skewed_check(last_day_df, last_skw_features)\n",
        "\n",
        "# Box-Cox Transform\n",
        "for col in skew_list:\n",
        "  last_day_df[col] = boxcox1p(last_day_df[col], lam)"
      ]
    },
    {
      "cell_type": "code",
      "execution_count": null,
      "metadata": {
        "id": "CQA8NfamLbu7"
      },
      "outputs": [],
      "source": [
        "# Feature Scaling\n",
        "last_scaling_col = ['AVRG_TMPRT', 'DAY_RAINQTY', 'DAY_MSNF', 'AVRG_WS', 'AVRG_HUMIDITY', 'INDUSTRIAL_CNT', 'BAR_CNT', \n",
        "                    'SENIOR_CENTER_CNT', 'RESTAURANT_CNT', 'BULID_PERMIT_CNT', 'ACCIDENT_AREA_CNT']\n",
        "for col in last_scaling_col:\n",
        "    last_day_df[col] = Scaler.transform(last_day_df[col].values.reshape(-1,1))"
      ]
    },
    {
      "cell_type": "code",
      "execution_count": null,
      "metadata": {
        "id": "txAA8z-SYnzS"
      },
      "outputs": [],
      "source": [
        "# col drop\n",
        "last_day_df.drop(columns=[\"OCRN_YMD\"], axis=1, inplace=True)"
      ]
    },
    {
      "cell_type": "code",
      "source": [
        "# 테스트 데이터와 학습 데이터 순서 정렬\n",
        "test_col = ['MONTH', 'DAY', 'WEEKDAY', 'HOLIDAY', 'SEASON_SE_NM', \n",
        "       'AVRG_TMPRT', 'DAY_RAINQTY', 'DAY_MSNF', 'AVRG_WS', 'AVRG_HUMIDITY',\n",
        "       'INDUSTRIAL_CNT', 'BAR_CNT', 'SENIOR_CENTER_CNT', 'RESTAURANT_CNT',\n",
        "       'BULID_PERMIT_CNT', 'ACCIDENT_AREA_CNT', 'ALL_POP', 'ELDER_POP','GRID_ID']\n",
        " \n",
        "last_day_df = last_day_df[test_col]"
      ],
      "metadata": {
        "id": "RY-w5Dt7uO1N"
      },
      "execution_count": null,
      "outputs": []
    },
    {
      "cell_type": "code",
      "execution_count": null,
      "metadata": {
        "id": "FI9BVriNZn20",
        "colab": {
          "base_uri": "https://localhost:8080/"
        },
        "outputId": "80273bf1-8448-450a-b57a-8177a5faa409"
      },
      "outputs": [
        {
          "output_type": "stream",
          "name": "stdout",
          "text": [
            "<class 'pandas.core.frame.DataFrame'>\n",
            "RangeIndex: 5225 entries, 0 to 5224\n",
            "Data columns (total 19 columns):\n",
            " #   Column             Non-Null Count  Dtype  \n",
            "---  ------             --------------  -----  \n",
            " 0   MONTH              5225 non-null   int64  \n",
            " 1   DAY                5225 non-null   int64  \n",
            " 2   WEEKDAY            5225 non-null   int64  \n",
            " 3   HOLIDAY            5225 non-null   float64\n",
            " 4   SEASON_SE_NM       5225 non-null   int64  \n",
            " 5   AVRG_TMPRT         5225 non-null   float64\n",
            " 6   DAY_RAINQTY        5225 non-null   float64\n",
            " 7   DAY_MSNF           5225 non-null   float64\n",
            " 8   AVRG_WS            5225 non-null   float64\n",
            " 9   AVRG_HUMIDITY      5225 non-null   float64\n",
            " 10  INDUSTRIAL_CNT     5225 non-null   float64\n",
            " 11  BAR_CNT            5225 non-null   float64\n",
            " 12  SENIOR_CENTER_CNT  5225 non-null   float64\n",
            " 13  RESTAURANT_CNT     5225 non-null   float64\n",
            " 14  BULID_PERMIT_CNT   5225 non-null   float64\n",
            " 15  ACCIDENT_AREA_CNT  5225 non-null   float64\n",
            " 16  ALL_POP            5225 non-null   float64\n",
            " 17  ELDER_POP          5225 non-null   float64\n",
            " 18  GRID_ID            5225 non-null   int64  \n",
            "dtypes: float64(14), int64(5)\n",
            "memory usage: 775.7 KB\n"
          ]
        }
      ],
      "source": [
        "# last check\n",
        "last_day_df.info()"
      ]
    },
    {
      "cell_type": "code",
      "execution_count": null,
      "metadata": {
        "id": "wjis8pwmbqTg"
      },
      "outputs": [],
      "source": [
        "# save csv\n",
        "last_day_df.to_csv(\"last_day_df.csv\")"
      ]
    }
  ]
}