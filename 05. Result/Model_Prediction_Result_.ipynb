{
  "nbformat": 4,
  "nbformat_minor": 0,
  "metadata": {
    "colab": {
      "provenance": []
    },
    "kernelspec": {
      "name": "python3",
      "display_name": "Python 3"
    },
    "language_info": {
      "name": "python"
    }
  },
  "cells": [
    {
      "cell_type": "markdown",
      "metadata": {
        "id": "viFXjxpzChPB"
      },
      "source": [
        "### Model Prediction Result "
      ]
    },
    {
      "cell_type": "code",
      "execution_count": null,
      "metadata": {
        "id": "E1Gkwa9wFsqA"
      },
      "outputs": [],
      "source": [
        "# 각 사고별 최적의 모델 선정 \n",
        "all_acc_model = { \"기계사고\" : [Random_Forset_model_MCHN_ACDNT_OCRN_CNT, XGBoost_model_MCHN_ACDNT_OCRN_CNT, CatBoost_model_MCHN_ACDNT_OCRN_CNT],\n",
        "                   \"기타사고\" : [Random_Forset_model_ETC_OCRN_CNT, XGBoost_model_ETC_OCRN_CNT, CatBoost_model_ETC_OCRN_CNT],\n",
        "                  \"둔상\" : [Random_Forset_model_BLTRM_OCRN_CNT, XGBoost_model_BLTRM_OCRN_CNT, CatBoost_model_BLTRM_OCRN_CNT],\n",
        "                  \"사고부상\" : [Random_Forset_model_ACDNT_INJ_OCRN_CNT, XGBoost_model_ACDNT_INJ_OCRN_CNT, CatBoost_model_ACDNT_INJ_OCRN_CNT],\n",
        "                  \"질병외\" : [Random_Forset_model_EXCL_DISEASE_OCRN_CNT, XGBoost_model_EXCL_DISEASE_OCRN_CNT, CatBoost_model_EXCL_DISEASE_OCRN_CNT],\n",
        "                  \"탈것사고\" : [Random_Forset_model_VHC_ACDNT_OCRN_CNT, XGBoost_model_VHC_ACDNT_OCRN_CNT, CatBoost_model_VHC_ACDNT_OCRN_CNT],\n",
        "                  \"낙상\" : [Random_Forset_model_HRFAF_OCRN_CNT, XGBoost_model_HRFAF_OCRN_CNT, CatBoost_model_HRFAF_OCRN_CNT],\n",
        "                  \"단순주취\" : [Random_Forset_model_DRKNSTAT_OCRN_CNT, XGBoost_model_DRKNSTAT_OCRN_CNT, CatBoost_model_DRKNSTAT_OCRN_CNT],\n",
        "                  \"동물곤충사고\" : [Random_Forset_model_ANML_INSCT_ACDNT_OCRN_CNT, XGBoost_model_ANML_INSCT_ACDNT_OCRN_CNT, CatBoost_model_ANML_INSCT_ACDNT_OCRN_CNT],\n",
        "                  \"동승자사고\" : [Random_Forset_model_FLPS_ACDNT_OCRN_CNT, XGBoost_model_FLPS_ACDNT_OCRN_CNT, CatBoost_model_FLPS_ACDNT_OCRN_CNT],\n",
        "                  \"보행자사고\" : [Random_Forset_model_PDST_ACDNT_OCRN_CNT, XGBoost_model_PDST_ACDNT_OCRN_CNT, CatBoost_model_PDST_ACDNT_OCRN_CNT],\n",
        "                  \"열상\" : [Random_Forset_model_LACRTWND_OCRN_CNT, XGBoost_model_LACRTWND_OCRN_CNT, CatBoost_model_LACRTWND_OCRN_CNT],\n",
        "                  \"오토바이사고\" : [Random_Forset_model_MTRCYC_ACDNT_OCRN_CNT, XGBoost_model_MTRCYC_ACDNT_OCRN_CNT, CatBoost_model_MTRCYC_ACDNT_OCRN_CNT],\n",
        "                  \"운전사사고\" : [Random_Forset_model_DRV_ACDNT_OCRN_CNT, XGBoost_model_DRV_ACDNT_OCRN_CNT, CatBoost_model_DRV_ACDNT_OCRN_CNT],\n",
        "                  \"자전거사고\" : [Random_Forset_model_BCYC_ACDNT_OCRN_CNT, XGBoost_model_BCYC_ACDNT_OCRN_CNT, CatBoost_model_BCYC_ACDNT_OCRN_CNT],\n",
        "                  \"중독사고\" : [Random_Forset_model_POSNG_OCRN_CNT, XGBoost_model_POSNG_OCRN_CNT, CatBoost_model_POSNG_OCRN_CNT],\n",
        "                  \"추락사고\" : [Random_Forset_model_FALLING_OCRN_CNT , XGBoost_model_FALLING_OCRN_CNT , CatBoost_model_FALLING_OCRN_CNT ],\n",
        "                  }"
      ]
    },
    {
      "cell_type": "code",
      "execution_count": null,
      "metadata": {
        "id": "Tw9GH_4yCrib",
        "colab": {
          "base_uri": "https://localhost:8080/"
        },
        "outputId": "41a72663-df22-485a-f9c5-a3f9983270af"
      },
      "outputs": [
        {
          "output_type": "stream",
          "name": "stdout",
          "text": [
            "       기계사고 분포 예측 결과        \n",
            "Random Forset 모델 분포 결과 : {0: 4538, 1: 687}\n",
            "XGBoost 모델 분포 결과 : {0: 4403, 1: 822}\n",
            "CatBoost 모델 분포 결과 : {0: 4705, 1: 520}\n",
            "*********************************************\n",
            "       기타사고 분포 예측 결과        \n",
            "Random Forset 모델 분포 결과 : {0: 3451, 1: 1774}\n",
            "XGBoost 모델 분포 결과 : {0: 3014, 1: 2211}\n",
            "CatBoost 모델 분포 결과 : {0: 4515, 1: 710}\n",
            "*********************************************\n",
            "       둔상 분포 예측 결과        \n",
            "Random Forset 모델 분포 결과 : {0: 4551, 1: 674}\n",
            "XGBoost 모델 분포 결과 : {0: 4080, 1: 1145}\n",
            "CatBoost 모델 분포 결과 : {0: 4705, 1: 520}\n",
            "*********************************************\n",
            "       사고부상 분포 예측 결과        \n",
            "Random Forset 모델 분포 결과 : {0: 4547, 1: 678}\n",
            "XGBoost 모델 분포 결과 : {0: 4413, 1: 812}\n",
            "CatBoost 모델 분포 결과 : {0: 4540, 1: 685}\n",
            "*********************************************\n",
            "       질병외 분포 예측 결과        \n",
            "Random Forset 모델 분포 결과 : {0: 4896, 1: 329}\n",
            "XGBoost 모델 분포 결과 : {0: 4813, 1: 412}\n",
            "CatBoost 모델 분포 결과 : {0: 4865, 1: 360}\n",
            "*********************************************\n",
            "       탈것사고 분포 예측 결과        \n",
            "Random Forset 모델 분포 결과 : {0: 4351, 1: 874}\n",
            "XGBoost 모델 분포 결과 : {0: 4533, 1: 692}\n",
            "CatBoost 모델 분포 결과 : {0: 4351, 1: 874}\n",
            "*********************************************\n",
            "       낙상 분포 예측 결과        \n",
            "Random Forset 모델 분포 결과 : {0: 4983, 1: 242}\n",
            "XGBoost 모델 분포 결과 : {0: 4841, 1: 384}\n",
            "CatBoost 모델 분포 결과 : {0: 4892, 1: 333}\n",
            "*********************************************\n",
            "       단순주취 분포 예측 결과        \n",
            "Random Forset 모델 분포 결과 : {0: 5024, 1: 201}\n",
            "XGBoost 모델 분포 결과 : {0: 5096, 1: 129}\n",
            "CatBoost 모델 분포 결과 : {0: 5018, 1: 207}\n",
            "*********************************************\n",
            "       동물곤충사고 분포 예측 결과        \n",
            "Random Forset 모델 분포 결과 : {0: 4585, 1: 640}\n",
            "XGBoost 모델 분포 결과 : {0: 4527, 1: 698}\n",
            "CatBoost 모델 분포 결과 : {0: 4277, 1: 948}\n",
            "*********************************************\n",
            "       동승자사고 분포 예측 결과        \n",
            "Random Forset 모델 분포 결과 : {0: 3721, 1: 1504}\n",
            "XGBoost 모델 분포 결과 : {0: 4384, 1: 841}\n",
            "CatBoost 모델 분포 결과 : {0: 4978, 1: 247}\n",
            "*********************************************\n",
            "       보행자사고 분포 예측 결과        \n",
            "Random Forset 모델 분포 결과 : {0: 4715, 1: 510}\n",
            "XGBoost 모델 분포 결과 : {0: 4756, 1: 469}\n",
            "CatBoost 모델 분포 결과 : {0: 4890, 1: 335}\n",
            "*********************************************\n",
            "       열상 분포 예측 결과        \n",
            "Random Forset 모델 분포 결과 : {0: 4953, 1: 272}\n",
            "XGBoost 모델 분포 결과 : {0: 4993, 1: 232}\n",
            "CatBoost 모델 분포 결과 : {0: 4924, 1: 301}\n",
            "*********************************************\n",
            "       오토바이사고 분포 예측 결과        \n",
            "Random Forset 모델 분포 결과 : {0: 4847, 1: 378}\n",
            "XGBoost 모델 분포 결과 : {0: 4668, 1: 557}\n",
            "CatBoost 모델 분포 결과 : {0: 4831, 1: 394}\n",
            "*********************************************\n",
            "       운전사사고 분포 예측 결과        \n",
            "Random Forset 모델 분포 결과 : {0: 4848, 1: 377}\n",
            "XGBoost 모델 분포 결과 : {0: 4658, 1: 567}\n",
            "CatBoost 모델 분포 결과 : {0: 4912, 1: 313}\n",
            "*********************************************\n",
            "       자전거사고 분포 예측 결과        \n",
            "Random Forset 모델 분포 결과 : {0: 4424, 1: 801}\n",
            "XGBoost 모델 분포 결과 : {0: 4101, 1: 1124}\n",
            "CatBoost 모델 분포 결과 : {0: 4695, 1: 530}\n",
            "*********************************************\n",
            "       중독사고 분포 예측 결과        \n",
            "Random Forset 모델 분포 결과 : {0: 5221, 1: 4}\n",
            "XGBoost 모델 분포 결과 : {0: 5170, 1: 55}\n",
            "CatBoost 모델 분포 결과 : {0: 5219, 1: 6}\n",
            "*********************************************\n",
            "       추락사고 분포 예측 결과        \n",
            "Random Forset 모델 분포 결과 : {0: 4873, 1: 352}\n",
            "XGBoost 모델 분포 결과 : {0: 4605, 1: 620}\n",
            "CatBoost 모델 분포 결과 : {0: 5019, 1: 206}\n",
            "*********************************************\n"
          ]
        }
      ],
      "source": [
        "# 사고별 최적의 모델 분포 결과  \n",
        "for data, model in all_acc_model.items():\n",
        "    # 각 모델 predict \n",
        "    y_pred_1 = model[0].predict(last_day_df)\n",
        "    y_pred_2 = model[1].predict(last_day_df)\n",
        "    y_pred_3 = model[2].predict(last_day_df)\n",
        "\n",
        "    # 사고별 최적의 모델 분포 \n",
        "    print (f\"       {data} 분포 예측 결과        \")\n",
        "    unique_1, cnt_1 = np.unique(y_pred_1, return_counts = True)\n",
        "    uni_cnt_dict_1 = dict(zip(unique_1, cnt_1))\n",
        "    print (f\"Random Forset 모델 분포 결과 : {uni_cnt_dict_1}\")\n",
        "\n",
        "    unique_2, cnt_2 = np.unique(y_pred_2, return_counts = True)\n",
        "    uni_cnt_dict_2 = dict(zip(unique_2, cnt_2))\n",
        "    print (f\"XGBoost 모델 분포 결과 : {uni_cnt_dict_2}\")\n",
        "\n",
        "    unique_3, cnt_3 = np.unique(y_pred_3, return_counts = True)\n",
        "    uni_cnt_dict_3 = dict(zip(unique_3, cnt_3))\n",
        "    print (f\"CatBoost 모델 분포 결과 : {uni_cnt_dict_3}\")\n",
        "\n",
        "    print(\"*\"*45)"
      ]
    },
    {
      "cell_type": "code",
      "execution_count": null,
      "metadata": {
        "id": "IgheihSz1fwz"
      },
      "outputs": [],
      "source": [
        "# 분포결과 및 점수를 확인하여 상위 1개를 이용한 모델 답안지 추출\n",
        "def final_grid_result_ex2 (name, use_model_1, data):\n",
        "    \n",
        "    # 원형 모델 데이터프레임 \n",
        "    result_DF = data.copy()\n",
        "\n",
        "    # 격자 추출 \n",
        "    Grid_IDS = data[\"GRID_ID\"].unique()\n",
        "\n",
        "    print(f\"{name} 격자 추출\")\n",
        "    print(\"*\"*30)\n",
        "\n",
        "    # 매월 말일에 label이 1(사건이 발생한)인 격자 추출\n",
        "    for mon in range(1, 12):\n",
        "\n",
        "        # 매월 말일 + 사건이 발생한 격자 추출\n",
        "        predict_df=result_DF.loc[result_DF['MONTH'] == mon, :]\n",
        "\n",
        "        # 매월 발생하는 사건중 상위 5개 격자만 추출 (예측확률 기준)\n",
        "        pred_proba = use_model_1.predict_proba(predict_df) \n",
        "        pred_proba_df = pd.DataFrame(pred_proba).sort_values(by = 1, ascending=False)\n",
        "        result_index = pred_proba_df[pred_proba_df[1] >= 0.5][:5].index \n",
        "\n",
        "        # 각 월말 날짜 추출\n",
        "        month_day = result_DF.loc[(result_DF[\"MONTH\"] == mon)]\n",
        "\n",
        "        # 정답 격자 \n",
        "        print([month_day[\"MONTH\"].iat[0], month_day[\"DAY\"].iat[0]])\n",
        "        print(Grid_IDS[result_index])\n",
        "        print() \n",
        "        "
      ]
    },
    {
      "cell_type": "code",
      "execution_count": null,
      "metadata": {
        "id": "xwNaihBv2ZCK",
        "colab": {
          "base_uri": "https://localhost:8080/"
        },
        "outputId": "6652793a-8f3a-4b37-ca91-17d9bb01871d"
      },
      "outputs": [
        {
          "output_type": "stream",
          "name": "stdout",
          "text": [
            "기계사고 격자 추출\n",
            "******************************\n",
            "[1, 31]\n",
            "[]\n",
            "\n",
            "[2, 28]\n",
            "[385525]\n",
            "\n",
            "[3, 31]\n",
            "[395527 396524 394527 396526 393527]\n",
            "\n",
            "[4, 30]\n",
            "[395527 394527 396524 396526 393527]\n",
            "\n",
            "[5, 31]\n",
            "[395527 396524 396526 394527 393527]\n",
            "\n",
            "[6, 30]\n",
            "[394527 395527 396526 396524 393527]\n",
            "\n",
            "[7, 31]\n",
            "[395527 394527 396524 396526 393527]\n",
            "\n",
            "[8, 31]\n",
            "[395527 396524 394527 396526 393527]\n",
            "\n",
            "[9, 30]\n",
            "[395527 394527 396524 396526 393527]\n",
            "\n",
            "[10, 31]\n",
            "[385525 395527 396524 394529 393527]\n",
            "\n",
            "[11, 30]\n",
            "[395527 396524 394527 396526 393527]\n",
            "\n"
          ]
        }
      ],
      "source": [
        "final_grid_result_ex2 (\"기계사고\", Random_Forset_model_MCHN_ACDNT_OCRN_CNT, last_day_df)"
      ]
    }
  ]
}